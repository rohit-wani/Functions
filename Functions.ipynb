{
  "nbformat": 4,
  "nbformat_minor": 0,
  "metadata": {
    "colab": {
      "provenance": []
    },
    "kernelspec": {
      "name": "python3",
      "display_name": "Python 3"
    },
    "language_info": {
      "name": "python"
    }
  },
  "cells": [
    {
      "cell_type": "markdown",
      "source": [
        "# Functions"
      ],
      "metadata": {
        "id": "AhFS7Owqdzbg"
      }
    },
    {
      "cell_type": "markdown",
      "source": [
        "1. What is the difference between a function and a method in Python?\n",
        "   - A function is a piece of code that is not associated with an object.A method is a function that is associated with an object\n",
        "\n",
        "2. Explain the concept of function arguments and parameters in Python.\n",
        "   - Arguments are the actual values passed to a function when it is called.\n",
        "   - Parameters are the placeholders or variable names listed in the function definition.\n",
        "\n",
        "3. What are the different ways to define and call a function in Python?\n",
        "   - Standard Function Definition (def)\n",
        "   - Lambda (Anonymous Function)\n",
        "   - Calling Functions\n",
        "\n",
        "4. What is the purpose of the `return` statement in a Python function?\n",
        "   - 1. Send a Value Back to the Caller\n",
        "   - 2. Exit a Function Early\n",
        "\n",
        "5. What are iterators in Python and how do they differ from iterables?\n",
        "   - An iterator is an object with a __next__() method that returns items one at a time and remembers its position. An iterable is any object that can return an iterator using __iter__(), such as lists, strings, or tuples.\n",
        "\n",
        "6. Explain the concept of generators in Python and how they are defined.\n",
        "   - In Python, a generator is a special type of iterator that yields values lazily—one at a time—as they are requested, using the yield keyword instead of return.\n",
        "   def count_up_to(n):\n",
        "    i = 1\n",
        "    while i <= n:\n",
        "        yield i\n",
        "        i += 1\n",
        "\n",
        "7. What are the advantages of using generators over regular functions?\n",
        "   - Generators are memory-efficient because they yield values one at a time.\n",
        "They support lazy evaluation, generating items only when needed.\n",
        "Generators are faster for large or infinite data streams.\n",
        "They simplify iterator creation with yield instead of __iter__/__next__.\n",
        "Ideal for looping over big data without loading everything into memory.\n",
        "\n",
        "8. What is a lambda function in Python and when is it typically used?\n",
        "   - A lambda function is an anonymous, single-expression function defined using the lambda keyword.\n",
        "It's typically used for short, throwaway functions, especially as arguments to higher-order functions like map(), filter(), or sorted().\n",
        "Lambda functions are concise and useful when defining a full function with def is unnecessary.\n",
        "\n",
        "9. Explain the purpose and usage of the `map()` function in Python.\n",
        "   - The map() function in Python is used to apply a function to each item in an iterable (like a list or tuple) and return a new map object (which is an iterator).\n",
        "\n",
        "10. What is the difference between `map()`, `reduce()`, and `filter()` functions in Python?\n",
        "    - map() applies a function to each item in an iterable and returns a new iterable of results.\n",
        "filter() selects items from an iterable for which a function returns True.\n",
        "reduce() (from functools) applies a function cumulatively to reduce an iterable to a single value.\n",
        "All three support functional-style programming.\n",
        "Use map for transformation, filter for selection, and reduce for aggregation.\n",
        "\n"
      ],
      "metadata": {
        "id": "xtN4sXjGd21-"
      }
    },
    {
      "cell_type": "code",
      "source": [
        "# 1. Write a Python function that takes a list of numbers as input and returns the sum of all even numbers in\n",
        "the list.\n",
        "def sum_even_numbers(numbers):\n",
        "    return sum(num for num in numbers if num % 2 == 0)\n"
      ],
      "metadata": {
        "id": "1o5ex8aUd_Uu"
      },
      "execution_count": null,
      "outputs": []
    },
    {
      "cell_type": "code",
      "source": [
        "# 2. Create a Python function that accepts a string and returns the reverse of that string.\n",
        "def reverse_string(s):\n",
        "    return s[::-1]\n"
      ],
      "metadata": {
        "id": "ZnoJOFzptnRC"
      },
      "execution_count": null,
      "outputs": []
    },
    {
      "cell_type": "code",
      "source": [
        "# 3. Implement a Python function that takes a list of integers and returns a new list containing the squares of\n",
        "each number.\n",
        "def square_list(numbers):\n",
        "    return [num ** 2 for num in numbers]\n"
      ],
      "metadata": {
        "id": "Ji9M2PBQt1Xe"
      },
      "execution_count": null,
      "outputs": []
    },
    {
      "cell_type": "code",
      "source": [
        "# 4. Write a Python function that checks if a given number is prime or not from 1 to 200.\n",
        "def is_prime(num):\n",
        "    if num < 2 or num > 200:\n",
        "        return False\n",
        "    for i in range(2, int(num**0.5) + 1):\n",
        "        if num % i == 0:\n",
        "            return False\n",
        "    return True\n"
      ],
      "metadata": {
        "id": "TwfQ27KjuCXj"
      },
      "execution_count": null,
      "outputs": []
    },
    {
      "cell_type": "code",
      "source": [
        "# 5.  Create an iterator class in Python that generates the Fibonacci sequence up to a specified number of\n",
        "terms.\n",
        "class Fibonacci:\n",
        "    def __init__(self, terms):\n",
        "        self.terms = terms\n",
        "        self.count = 0\n",
        "        self.a, self.b = 0, 1\n",
        "\n",
        "    def __iter__(self):\n",
        "        return self\n",
        "\n",
        "    def __next__(self):\n",
        "        if self.count >= self.terms:\n",
        "            raise StopIteration\n",
        "        if self.count == 0:\n",
        "            self.count += 1\n",
        "            return 0\n",
        "        elif self.count == 1:\n",
        "            self.count += 1\n",
        "            return 1\n",
        "        else:\n",
        "            self.a, self.b = self.b, self.a + self.b\n",
        "            self.count += 1\n",
        "            return self.a\n"
      ],
      "metadata": {
        "id": "GkecVJYbuMyV"
      },
      "execution_count": null,
      "outputs": []
    },
    {
      "cell_type": "code",
      "source": [
        "# 6. Write a generator function in Python that yields the powers of 2 up to a given exponent.\n",
        "def powers_of_two(max_exp):\n",
        "    for exp in range(max_exp + 1):\n",
        "        yield 2 ** exp\n",
        "\n"
      ],
      "metadata": {
        "id": "bpgGwTl3uUwT"
      },
      "execution_count": null,
      "outputs": []
    },
    {
      "cell_type": "code",
      "source": [
        "# 7. Implement a generator function that reads a file line by line and yields each line as a string.\n",
        "def read_file_line_by_line(file_path):\n",
        "    with open(file_path, 'r') as file:\n",
        "        for line in file:\n",
        "            yield line.rstrip('\\n')\n"
      ],
      "metadata": {
        "id": "2UQLeM4sueGs"
      },
      "execution_count": null,
      "outputs": []
    },
    {
      "cell_type": "code",
      "source": [
        "# 8. Use a lambda function in Python to sort a list of tuples based on the second element of each tuple.\n",
        "tuples_list = [(1, 3), (4, 1), (5, 2)]\n",
        "sorted_list = sorted(tuples_list, key=lambda x: x[1])\n",
        "print(sorted_list)  # Output: [(4, 1), (5, 2), (1, 3)]\n"
      ],
      "metadata": {
        "id": "4w9dnJnFutdU"
      },
      "execution_count": null,
      "outputs": []
    },
    {
      "cell_type": "code",
      "source": [
        "# 9. Write a Python program that uses `map()` to convert a list of temperatures from Celsius to Fahrenheit.\n",
        "def celsius_to_fahrenheit(c):\n",
        "    return (c * 9/5) + 32\n",
        "\n",
        "celsius_temps = [0, 20, 37, 100]\n",
        "fahrenheit_temps = list(map(celsius_to_fahrenheit, celsius_temps))\n",
        "\n",
        "print(fahrenheit_temps)  # Output: [32.0, 68.0, 98.6, 212.0]\n"
      ],
      "metadata": {
        "colab": {
          "base_uri": "https://localhost:8080/"
        },
        "id": "gdgo-0K8u1Zc",
        "outputId": "7d7ab3e3-2648-476d-892e-bd443b578393"
      },
      "execution_count": 2,
      "outputs": [
        {
          "output_type": "stream",
          "name": "stdout",
          "text": [
            "[32.0, 68.0, 98.6, 212.0]\n"
          ]
        }
      ]
    },
    {
      "cell_type": "code",
      "source": [
        "# 10. Create a Python program that uses `filter()` to remove all the vowels from a given string.\n",
        "def remove_vowels(s):\n",
        "    vowels = \"aeiouAEIOU\"\n",
        "    return ''.join(filter(lambda char: char not in vowels, s))\n",
        "\n",
        "text = \"Hello, World!\"\n",
        "result = remove_vowels(text)\n",
        "print(result)  # Output: Hll, Wrld!\n"
      ],
      "metadata": {
        "colab": {
          "base_uri": "https://localhost:8080/"
        },
        "id": "xRfVmunGu8Cx",
        "outputId": "c33af05b-c018-41d2-a23e-666614a0bc93"
      },
      "execution_count": 3,
      "outputs": [
        {
          "output_type": "stream",
          "name": "stdout",
          "text": [
            "Hll, Wrld!\n"
          ]
        }
      ]
    },
    {
      "cell_type": "code",
      "source": [],
      "metadata": {
        "id": "HTE5LimCvHJw"
      },
      "execution_count": null,
      "outputs": []
    }
  ]
}